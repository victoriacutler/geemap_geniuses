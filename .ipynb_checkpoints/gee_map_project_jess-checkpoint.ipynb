{
 "cells": [
  {
   "cell_type": "markdown",
   "metadata": {},
   "source": [
    "# geemap \n",
    "### Victoria Cutler, Jessica French, Guillermo Romero"
   ]
  },
  {
   "cell_type": "code",
   "execution_count": null,
   "metadata": {},
   "outputs": [],
   "source": [
    "![2a99eb00-1dd2-11eb-94bb-98ee2b8f5cc3.png](attachment:2a99eb00-1dd2-11eb-94bb-98ee2b8f5cc3.png)"
   ]
  },
  {
   "cell_type": "markdown",
   "metadata": {},
   "source": [
    "# Google Earth Engine\n",
    " \n",
    "- GEE is a cloud computing platform with a multi-petabyte catalog of satellite imagery and geospatial datasets\n",
    "- GEE provides both JavaScript and Python APIs for making computational requests to the Earth Engine servers\n",
    "- The GEE Python API has relatively little documentation and limited functionality for visualizing results interactively. "
   ]
  },
  {
   "cell_type": "markdown",
   "metadata": {},
   "source": [
    "# geemap.org\n",
    "\n",
    "- geemap is a Python package for interactive mapping with Google Earth Engine (GEE)\n",
    "- It is built upon ipyleaflet and ipywidgets, and enables users to analyze and visualize Earth Engine datasets interactively within a Jupyter-based environment"
   ]
  },
  {
   "cell_type": "markdown",
   "metadata": {},
   "source": [
    "import IPython\n",
    "\n",
    "src = \"https://geemap.org/#introduction\"\n",
    "\n",
    "IPython.display.IFrame(src,974,550)"
   ]
  },
  {
   "cell_type": "markdown",
   "metadata": {},
   "source": [
    "## Install\n",
    "\n",
    "**Make sure you are in the eds-217 environment. If you are not use the follwing command to make it so:**\n",
    "\n",
    "$ conda activate eds-217\n",
    "\n",
    "**Install geemap by running the commnd below in the terminal:**\n",
    "\n",
    "$ conda install -c conda-forge geemap\n",
    "\n",
    "NOTE: If installing from conda forge doesn't work try using pip. "
   ]
  },
  {
   "cell_type": "markdown",
   "metadata": {},
   "source": [
    "**Once geemap is installed open a jupyter notebook in your browser by running the following command in the terminal**\n",
    "\n",
    "$ Jupyter Notebook\n",
    "\n",
    "**NOTE: Your maps won't display in a notebook in VS code.**"
   ]
  },
  {
   "cell_type": "markdown",
   "metadata": {},
   "source": [
    "\n",
    "import geemap into the first cell in your new notebook"
   ]
  },
  {
   "cell_type": "code",
   "execution_count": 5,
   "metadata": {},
   "outputs": [],
   "source": [
    "import geemap\n"
   ]
  },
  {
   "cell_type": "code",
   "execution_count": 1,
   "metadata": {},
   "outputs": [
    {
     "ename": "NameError",
     "evalue": "name 'geemap' is not defined",
     "output_type": "error",
     "traceback": [
      "\u001b[0;31m---------------------------------------------------------------------------\u001b[0m",
      "\u001b[0;31mNameError\u001b[0m                                 Traceback (most recent call last)",
      "Input \u001b[0;32mIn [1]\u001b[0m, in \u001b[0;36m<cell line: 1>\u001b[0;34m()\u001b[0m\n\u001b[0;32m----> 1\u001b[0m m \u001b[38;5;241m=\u001b[39m \u001b[43mgeemap\u001b[49m\u001b[38;5;241m.\u001b[39mMap()\n\u001b[1;32m      2\u001b[0m m\n",
      "\u001b[0;31mNameError\u001b[0m: name 'geemap' is not defined"
     ]
    }
   ],
   "source": [
    "m = geemap.Map()\n",
    "m"
   ]
  },
  {
   "cell_type": "markdown",
   "metadata": {},
   "source": [
    "### The first time you run the code above you will be prompted to authenticate your Google Earth account \n",
    "- follow the link that appears below the code block. \n",
    "\n",
    "### Follow the link that appears below the code block. \n",
    "- Follow the prompts \n",
    "- For account choose your PERSONAL email\n",
    " "
   ]
  },
  {
   "cell_type": "markdown",
   "metadata": {},
   "source": [
    "## Select choose project. \n",
    "\n",
    "![](images/choose_project.png)\n",
    "\n",
    "## Create a new project. \n",
    "![](images/create_new_project.png)\n",
    "\n",
    "### Sign up for non-commercial use and fill in your information. \n",
    "- For the description the sentence needs to be a little long for the requirement to be fulfilled. \n",
    "- Click continue\n",
    "\n",
    "![](images/non_commercial_use.png)\n",
    "\n",
    "![](images/sign_up.png)\n",
    "\n",
    "### Now you should be back to the page with the generate token botton. \n",
    "- After clicking generate token you will be prompted to choose an account. \n",
    "![](images/choose_account.png)\n",
    "\n",
    "### Give you permission to access your stuff. \n",
    "\n",
    "![](images/account_permissions.png)\n",
    "\n",
    "### Do NOT return to safety. \n",
    "\n",
    "![](images/no_safety.png)\n",
    "\n",
    "### Get your token.\n",
    "- Copy and paste the code into a box that appears at the top of the notebook. \n",
    "\n",
    "![](images/the_token.png)\n",
    "\n"
   ]
  },
  {
   "cell_type": "markdown",
   "metadata": {},
   "source": [
    "Run the geemap.Map() command again and watch the magic happen. "
   ]
  },
  {
   "cell_type": "code",
   "execution_count": 3,
   "metadata": {},
   "outputs": [],
   "source": [
    "m.basemap_demo()"
   ]
  }
 ],
 "metadata": {
  "kernelspec": {
   "display_name": "Python 3 (ipykernel)",
   "language": "python",
   "name": "python3"
  },
  "language_info": {
   "codemirror_mode": {
    "name": "ipython",
    "version": 3
   },
   "file_extension": ".py",
   "mimetype": "text/x-python",
   "name": "python",
   "nbconvert_exporter": "python",
   "pygments_lexer": "ipython3",
   "version": "3.10.5"
  },
  "vscode": {
   "interpreter": {
    "hash": "695cb85de181b41783130a11a02b542c9ec3e4eae48452f8e8ee56161ea7d850"
   }
  }
 },
 "nbformat": 4,
 "nbformat_minor": 2
}

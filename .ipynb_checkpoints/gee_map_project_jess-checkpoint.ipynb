{
 "cells": [
  {
   "cell_type": "markdown",
   "metadata": {},
   "source": [
    "# geemap \n",
    "### Victoria Cutler, Jessica French, Guillermo Romero"
   ]
  },
  {
   "cell_type": "markdown",
   "metadata": {},
   "source": [
    "![](2a99eb00-1dd2-11eb-94bb-98ee2b8f5cc3.png)"
   ]
  },
  {
   "cell_type": "markdown",
   "metadata": {},
   "source": [
    "# Google Earth Engine\n",
    " \n",
    "- GEE is a cloud computing platform with a multi-petabyte catalog of satellite imagery and geospatial datasets\n",
    "- GEE provides both JavaScript and Python APIs for making computational requests to the Earth Engine servers\n",
    "- The GEE Python API has relatively little documentation and limited functionality for visualizing results interactively. "
   ]
  },
  {
   "cell_type": "markdown",
   "metadata": {},
   "source": [
    "# geemap.org\n",
    "\n",
    "- geemap is a Python package for interactive mapping with Google Earth Engine (GEE)\n",
    "- It is built upon ipyleaflet and ipywidgets, and enables users to analyze and visualize Earth Engine datasets interactively within a Jupyter-based environment"
   ]
  },
  {
   "cell_type": "code",
   "execution_count": 2,
   "metadata": {},
   "outputs": [
    {
     "data": {
      "text/html": [
       "\n",
       "        <iframe\n",
       "            width=\"974\"\n",
       "            height=\"550\"\n",
       "            src=\"https://geemap.org/#introduction\"\n",
       "            frameborder=\"0\"\n",
       "            allowfullscreen\n",
       "            \n",
       "        ></iframe>\n",
       "        "
      ],
      "text/plain": [
       "<IPython.lib.display.IFrame at 0x10f709c60>"
      ]
     },
     "execution_count": 2,
     "metadata": {},
     "output_type": "execute_result"
    }
   ],
   "source": [
    "import IPython\n",
    "\n",
    "src = \"https://geemap.org/#introduction\"\n",
    "\n",
    "IPython.display.IFrame(src,974,550)"
   ]
  },
  {
   "cell_type": "markdown",
   "metadata": {},
   "source": [
    "## Install\n",
    "\n",
    "**Make sure you are in the eds-217 environment. If you are not use the follwing command to make it so:**\n",
    "\n",
    "$ conda activate eds-217\n",
    "\n",
    "**Install geemap by running the commnd below in the terminal:**\n",
    "\n",
    "$ conda install -c conda-forge geemap\n",
    "\n",
    "NOTE: If installing from conda forge doesn't work try using pip. "
   ]
  },
  {
   "cell_type": "markdown",
   "metadata": {},
   "source": [
    "**Once geemap is installed open a jupyter notebook in your browser by running the following command in the terminal**\n",
    "\n",
    "$ Jupyter Notebook\n",
    "\n",
    "**NOTE: Your maps won't display in a notebook in VS code.**"
   ]
  },
  {
   "cell_type": "markdown",
   "metadata": {},
   "source": [
    "\n",
    "import geemap into the first cell in your new notebook"
   ]
  },
  {
   "cell_type": "code",
   "execution_count": 1,
   "metadata": {},
   "outputs": [],
   "source": [
    "import geemap\n",
    "import ee\n"
   ]
  },
  {
   "cell_type": "code",
   "execution_count": 2,
   "metadata": {},
   "outputs": [
    {
     "data": {
      "application/vnd.jupyter.widget-view+json": {
       "model_id": "d9acbc2c646f4224a070e27506ef806a",
       "version_major": 2,
       "version_minor": 0
      },
      "text/plain": [
       "Map(center=[20, 0], controls=(WidgetControl(options=['position', 'transparent_bg'], widget=HBox(children=(Togg…"
      ]
     },
     "execution_count": 2,
     "metadata": {},
     "output_type": "execute_result"
    }
   ],
   "source": [
    "m = geemap.Map()\n",
    "m"
   ]
  },
  {
   "cell_type": "markdown",
   "metadata": {},
   "source": [
    "### The first time you run the code above you will be prompted to authenticate your Google Earth account \n",
    "- follow the link that appears below the code block. \n",
    "\n",
    "### Follow the link that appears below the code block. \n",
    "- Follow the prompts \n",
    "- For account choose your PERSONAL email\n",
    " "
   ]
  },
  {
   "cell_type": "markdown",
   "metadata": {},
   "source": [
    "## Select choose project. \n",
    "\n",
    "![](images/choose_project.png)\n",
    "\n",
    "## Create a new project. \n",
    "![](images/create_new_project.png)\n",
    "\n",
    "### Sign up for non-commercial use and fill in your information. \n",
    "- For the description the sentence needs to be a little long for the requirement to be fulfilled. \n",
    "- Click continue\n",
    "\n",
    "![](images/non_commercial_use.png)\n",
    "\n",
    "![](images/sign_up.png)\n",
    "\n",
    "### Now you should be back to the page with the generate token botton. \n",
    "- After clicking generate token you will be prompted to choose an account. \n",
    "![](images/choose_account.png)\n",
    "\n",
    "### Give you permission to access your stuff. \n",
    "\n",
    "![](images/account_permissions.png)\n",
    "\n",
    "### Do NOT return to safety. \n",
    "\n",
    "![](images/no_safety.png)\n",
    "\n",
    "### Get your token.\n",
    "- Copy and paste the code into a box that appears at the top of the notebook. \n",
    "\n",
    "![](images/the_token.png)\n",
    "\n"
   ]
  },
  {
   "cell_type": "markdown",
   "metadata": {},
   "source": [
    "Run the geemap.Map() command again and watch the magic happen. "
   ]
  },
  {
   "cell_type": "code",
   "execution_count": 3,
   "metadata": {},
   "outputs": [],
   "source": [
    "m = geemap.Map()\n",
    "m"
   ]
  },
  {
   "cell_type": "code",
   "execution_count": null,
   "metadata": {},
   "outputs": [],
   "source": [
    "m.basemap_demo()"
   ]
  },
  {
   "cell_type": "code",
   "execution_count": null,
   "metadata": {},
   "outputs": [],
   "source": []
  },
  {
   "cell_type": "markdown",
   "metadata": {},
   "source": [
    "Let's look at the thomas fire area!"
   ]
  },
  {
   "cell_type": "markdown",
   "metadata": {},
   "source": [
    "# Thomas Fire\n",
    "\n",
    "![](https://www.danschultzfineart.com/wp-content/uploads/2017/12/thomas-fire-ojai-valley-map.jpg)"
   ]
  },
  {
   "cell_type": "code",
   "execution_count": null,
   "metadata": {},
   "outputs": [],
   "source": [
    "naip_ts = geemap.naip_timeseries(start_year = 2009, end_year = 2019)\n",
    "\n",
    "layer_names = ['NAIP' + str(year) for year in range(2009,2020)]\n",
    "print(layer_names)\n",
    "\n",
    "naip_vis = {'bands': ['N', 'R', 'G']}\n",
    "\n",
    "thomasfire = geemap.Map()\n",
    "thomasfire.ts_inspector(left_ts = naip_ts, right_ts = naip_ts, left_names = layer_names, right_names = layer_names, left_vis = naip_vis, right_vis = naip_vis)\n",
    "thomasfire"
   ]
  },
  {
   "cell_type": "markdown",
   "metadata": {},
   "source": [
    "Something cool that doesn't work"
   ]
  },
  {
   "cell_type": "code",
   "execution_count": null,
   "metadata": {},
   "outputs": [],
   "source": [
    "Map = geemap.Map()\n",
    "Map"
   ]
  },
  {
   "cell_type": "code",
   "execution_count": null,
   "metadata": {},
   "outputs": [],
   "source": [
    "region = Map.draw_last_feature\n",
    "roi = region.geometry()\n",
    "\n",
    "layer_names = ['Landsat' + str(year) for year in range(1984,2020)]\n",
    "print(layer_names)\n",
    "\n",
    "landsat_vis = {\n",
    "    'min': 0,\n",
    "    'max': 4000,\n",
    "    'gamma': [1, 1, 1],\n",
    "    'bands': ['NIR', 'Red', 'Green']}\n",
    "\n",
    "Map = geemap.Map()\n",
    "Map.ts_inspector(left_ts=landsat_ts, \n",
    "                 right_ts=landsat_ts, \n",
    "                 left_names=layer_names, \n",
    "                 right_names=layer_names, \n",
    "                 left_vis=landsat_vis, \n",
    "                 right_vis=landsat_vis,\n",
    "                )\n",
    "Map.centerObject(roi, zoom=8)\n",
    "Map"
   ]
  },
  {
   "cell_type": "code",
   "execution_count": null,
   "metadata": {},
   "outputs": [],
   "source": [
    "import IPython\n",
    "\n",
    "src = \"https://geemap.org/#introduction\"\n",
    "\n",
    "IPython.display.IFrame(src,974,550)"
   ]
  }
 ],
 "metadata": {
  "kernelspec": {
   "display_name": "eds-217",
   "language": "python",
   "name": "eds-217"
  },
  "language_info": {
   "codemirror_mode": {
    "name": "ipython",
    "version": 3
   },
   "file_extension": ".py",
   "mimetype": "text/x-python",
   "name": "python",
   "nbconvert_exporter": "python",
   "pygments_lexer": "ipython3",
   "version": "3.10.5"
  },
  "vscode": {
   "interpreter": {
    "hash": "695cb85de181b41783130a11a02b542c9ec3e4eae48452f8e8ee56161ea7d850"
   }
  }
 },
 "nbformat": 4,
 "nbformat_minor": 2
}

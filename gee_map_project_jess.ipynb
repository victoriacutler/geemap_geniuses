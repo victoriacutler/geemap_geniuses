{
 "cells": [
  {
   "cell_type": "markdown",
   "metadata": {},
   "source": [
    "## Install\n",
    "\n",
    "Make sure you are in the eds-217 environment. If you are not use the follwing command to make it so:\n",
    "\n",
    "$ conda activate eds-217\n",
    "\n",
    "Install geemap by running the commnd below in the terminal:\n",
    "\n",
    "$ conda install -c conda-forge geemap"
   ]
  },
  {
   "cell_type": "markdown",
   "metadata": {},
   "source": [
    "*image of command runnning in the terminal "
   ]
  },
  {
   "cell_type": "markdown",
   "metadata": {},
   "source": [
    "Once geemap is installed open a jupyter notebook in your browser by running the following command in the terminal\n",
    "\n",
    "$ Jupyter Notebook\n",
    "\n",
    "NOTE: Your maps won't display in a notebook in VS code."
   ]
  },
  {
   "cell_type": "markdown",
   "metadata": {},
   "source": [
    "\n",
    "import geemap into the first cell in your new notebook"
   ]
  },
  {
   "cell_type": "code",
   "execution_count": 1,
   "metadata": {},
   "outputs": [],
   "source": [
    "import geemap\n"
   ]
  },
  {
   "cell_type": "markdown",
   "metadata": {},
   "source": [
    "The first time you run the code below you will be prompted to authenticate your Google Earth account by following a link that appears below the code block. \n",
    "\n",
    "Follow the link and use your PERSONAL email to create your account. \n",
    "Follow the prompts "
   ]
  },
  {
   "cell_type": "code",
   "execution_count": null,
   "metadata": {},
   "outputs": [],
   "source": [
    "m = geemap.Map()\n",
    "m"
   ]
  },
  {
   "attachments": {},
   "cell_type": "markdown",
   "metadata": {},
   "source": [
    "![](images/choose_project.png)\n",
    "\n",
    "![](images/create_new_project.png)\n",
    "\n",
    "![](images/non_commercial_use.png)\n",
    "\n",
    "![](images/sign_up.png)\n",
    "\n",
    "![](images/choose_account.png)\n",
    "\n",
    "![](images/account_permissions.png)\n",
    "\n",
    "![](images/no_safety.png)\n",
    "\n",
    "![](images/the_token.png)\n",
    "\n"
   ]
  },
  {
   "cell_type": "markdown",
   "metadata": {},
   "source": []
  },
  {
   "cell_type": "code",
   "execution_count": 2,
   "metadata": {},
   "outputs": [
    {
     "data": {
      "application/vnd.jupyter.widget-view+json": {
       "model_id": "adad7f07ad984272bee8b6e460dcb065",
       "version_major": 2,
       "version_minor": 0
      },
      "text/plain": [
       "Map(center=[20, 0], controls=(WidgetControl(options=['position', 'transparent_bg'], widget=HBox(children=(Togg…"
      ]
     },
     "execution_count": 2,
     "metadata": {},
     "output_type": "execute_result"
    }
   ],
   "source": [
    "\n",
    "\n"
   ]
  },
  {
   "cell_type": "code",
   "execution_count": 3,
   "metadata": {},
   "outputs": [],
   "source": [
    "m.basemap_demo()"
   ]
  }
 ],
 "metadata": {
  "kernelspec": {
   "display_name": "Python 3 (ipykernel)",
   "language": "python",
   "name": "python3"
  },
  "language_info": {
   "codemirror_mode": {
    "name": "ipython",
    "version": 3
   },
   "file_extension": ".py",
   "mimetype": "text/x-python",
   "name": "python",
   "nbconvert_exporter": "python",
   "pygments_lexer": "ipython3",
   "version": "3.10.5"
  },
  "vscode": {
   "interpreter": {
    "hash": "695cb85de181b41783130a11a02b542c9ec3e4eae48452f8e8ee56161ea7d850"
   }
  }
 },
 "nbformat": 4,
 "nbformat_minor": 2
}

{
 "cells": [
  {
   "cell_type": "code",
   "execution_count": 2,
   "metadata": {},
   "outputs": [],
   "source": [
    "import geemap\n",
    "import ee"
   ]
  },
  {
   "cell_type": "code",
   "execution_count": 11,
   "metadata": {},
   "outputs": [
    {
     "data": {
      "application/vnd.jupyter.widget-view+json": {
       "model_id": "6e5002498bd248eda87f30aae7463abe",
       "version_major": 2,
       "version_minor": 0
      },
      "text/plain": [
       "Map(center=[20, 0], controls=(WidgetControl(options=['position', 'transparent_bg'], widget=HBox(children=(Togg…"
      ]
     },
     "execution_count": 11,
     "metadata": {},
     "output_type": "execute_result"
    }
   ],
   "source": [
    "m = geemap.Map()\n",
    "m"
   ]
  },
  {
   "cell_type": "code",
   "execution_count": null,
   "metadata": {},
   "outputs": [],
   "source": [
    "m.add_basemap(\"SATELLITE\")"
   ]
  },
  {
   "cell_type": "code",
   "execution_count": null,
   "metadata": {},
   "outputs": [],
   "source": [
    "m.basemap_demo()"
   ]
  },
  {
   "cell_type": "code",
   "execution_count": null,
   "metadata": {},
   "outputs": [],
   "source": []
  },
  {
   "cell_type": "code",
   "execution_count": null,
   "metadata": {},
   "outputs": [],
   "source": [
    "naip_ts = geemap.naip_timeseries(start_year = 2009, end_year = 2019)"
   ]
  },
  {
   "cell_type": "code",
   "execution_count": null,
   "metadata": {},
   "outputs": [],
   "source": [
    "layer_names = ['NAIP' + str(year) for year in range(2009,2020)]\n",
    "print(layer_names)"
   ]
  },
  {
   "cell_type": "code",
   "execution_count": null,
   "metadata": {},
   "outputs": [],
   "source": [
    "naip_vis = {'bands': ['N', 'R', 'G']}"
   ]
  },
  {
   "cell_type": "code",
   "execution_count": null,
   "metadata": {},
   "outputs": [],
   "source": [
    "m_sb = geemap.Map()\n",
    "m_sb.ts_inspector(left_ts = naip_ts, right_ts = naip_ts, left_names = layer_names, right_names = layer_names, left_vis = naip_ts, right_vis = naip_ts)\n",
    "m_sb"
   ]
  },
  {
   "cell_type": "code",
   "execution_count": 51,
   "metadata": {},
   "outputs": [
    {
     "data": {
      "application/vnd.jupyter.widget-view+json": {
       "model_id": "5b85fff58b03425b8d8bc96ad9cfbb43",
       "version_major": 2,
       "version_minor": 0
      },
      "text/plain": [
       "Map(center=[20, 0], controls=(WidgetControl(options=['position', 'transparent_bg'], widget=HBox(children=(Togg…"
      ]
     },
     "execution_count": 51,
     "metadata": {},
     "output_type": "execute_result"
    }
   ],
   "source": [
    "Map = geemap.Map()\n",
    "Map"
   ]
  },
  {
   "cell_type": "code",
   "execution_count": 52,
   "metadata": {},
   "outputs": [],
   "source": [
    "region = Map.draw_last_feature\n"
   ]
  },
  {
   "cell_type": "code",
   "execution_count": 53,
   "metadata": {},
   "outputs": [],
   "source": [
    "roi = region.geometry()"
   ]
  },
  {
   "cell_type": "code",
   "execution_count": 21,
   "metadata": {},
   "outputs": [],
   "source": []
  },
  {
   "cell_type": "code",
   "execution_count": 54,
   "metadata": {},
   "outputs": [
    {
     "name": "stdout",
     "output_type": "stream",
     "text": [
      "{'geodesic': False, 'type': 'Polygon', 'coordinates': [[[-119.937336, 34.350124], [-119.937336, 34.547738], [-119.537902, 34.547738], [-119.537902, 34.350124], [-119.937336, 34.350124]]]}\n"
     ]
    }
   ],
   "source": [
    "#print(roi.getInfo())"
   ]
  },
  {
   "cell_type": "code",
   "execution_count": 55,
   "metadata": {},
   "outputs": [],
   "source": [
    "landsat_ts = geemap.landsat_timeseries(roi=roi, start_year = 1984, end_year=2019, start_date='01-01', end_date='12-31')"
   ]
  },
  {
   "cell_type": "code",
   "execution_count": 56,
   "metadata": {},
   "outputs": [
    {
     "name": "stdout",
     "output_type": "stream",
     "text": [
      "['Landsat1984', 'Landsat1985', 'Landsat1986', 'Landsat1987', 'Landsat1988', 'Landsat1989', 'Landsat1990', 'Landsat1991', 'Landsat1992', 'Landsat1993', 'Landsat1994', 'Landsat1995', 'Landsat1996', 'Landsat1997', 'Landsat1998', 'Landsat1999', 'Landsat2000', 'Landsat2001', 'Landsat2002', 'Landsat2003', 'Landsat2004', 'Landsat2005', 'Landsat2006', 'Landsat2007', 'Landsat2008', 'Landsat2009', 'Landsat2010', 'Landsat2011', 'Landsat2012', 'Landsat2013', 'Landsat2014', 'Landsat2015', 'Landsat2016', 'Landsat2017', 'Landsat2018', 'Landsat2019']\n"
     ]
    }
   ],
   "source": [
    "layer_names = ['Landsat' + str(year) for year in range(1984,2020)]\n",
    "print(layer_names)"
   ]
  },
  {
   "cell_type": "code",
   "execution_count": 74,
   "metadata": {},
   "outputs": [],
   "source": [
    "landsat_vis = {\n",
    "    'min': 0,\n",
    "    'max': 4000,\n",
    "    'gamma': [1, 1, 1],\n",
    "    'bands': ['NIR', 'Red', 'Green']}"
   ]
  },
  {
   "cell_type": "code",
   "execution_count": 75,
   "metadata": {},
   "outputs": [
    {
     "data": {
      "application/vnd.jupyter.widget-view+json": {
       "model_id": "1404066a62a54dd0b5a140f7f7055e33",
       "version_major": 2,
       "version_minor": 0
      },
      "text/plain": [
       "Map(center=[34.44894616285535, -119.73761899999894], controls=(WidgetControl(options=['position', 'transparent…"
      ]
     },
     "execution_count": 75,
     "metadata": {},
     "output_type": "execute_result"
    }
   ],
   "source": [
    "Map = geemap.Map()\n",
    "Map.ts_inspector(left_ts=landsat_ts, \n",
    "                 right_ts=landsat_ts, \n",
    "                 left_names=layer_names, \n",
    "                 right_names=layer_names, \n",
    "                 left_vis=landsat_vis, \n",
    "                 right_vis=landsat_vis,\n",
    "                )\n",
    "Map.centerObject(roi, zoom=8)\n",
    "Map"
   ]
  },
  {
   "cell_type": "code",
   "execution_count": null,
   "metadata": {},
   "outputs": [],
   "source": []
  },
  {
   "cell_type": "code",
   "execution_count": null,
   "metadata": {},
   "outputs": [],
   "source": []
  },
  {
   "cell_type": "code",
   "execution_count": 42,
   "metadata": {},
   "outputs": [],
   "source": [
    "Map = geemap.Map()\n",
    "naip_ts = geemap.naip_timeseries(start_year=2009, end_year=2018)"
   ]
  },
  {
   "cell_type": "code",
   "execution_count": 43,
   "metadata": {},
   "outputs": [
    {
     "name": "stdout",
     "output_type": "stream",
     "text": [
      "['NAIP 2009', 'NAIP 2010', 'NAIP 2011', 'NAIP 2012', 'NAIP 2013', 'NAIP 2014', 'NAIP 2015', 'NAIP 2016', 'NAIP 2017', 'NAIP 2018']\n"
     ]
    }
   ],
   "source": [
    "layer_names = ['NAIP ' + str(year) for year in range(2009, 2019)]\n",
    "print(layer_names)"
   ]
  },
  {
   "cell_type": "code",
   "execution_count": 46,
   "metadata": {},
   "outputs": [],
   "source": [
    "naip_vis = {'bands': ['N', 'R', 'G']}"
   ]
  },
  {
   "cell_type": "code",
   "execution_count": 47,
   "metadata": {
    "scrolled": true
   },
   "outputs": [
    {
     "data": {
      "application/vnd.jupyter.widget-view+json": {
       "model_id": "681aa17bae2b4779a1575ba49d191bf9",
       "version_major": 2,
       "version_minor": 0
      },
      "text/plain": [
       "Map(center=[20, 0], controls=(WidgetControl(options=['position', 'transparent_bg'], widget=Dropdown(layout=Lay…"
      ]
     },
     "execution_count": 47,
     "metadata": {},
     "output_type": "execute_result"
    }
   ],
   "source": [
    "Map = geemap.Map()\n",
    "Map.ts_inspector(\n",
    "    left_ts=naip_ts,\n",
    "    right_ts=naip_ts,\n",
    "    left_names=layer_names,\n",
    "    right_names=layer_names,\n",
    "    left_vis=naip_vis,\n",
    "    right_vis=naip_vis,\n",
    ")\n",
    "Map"
   ]
  },
  {
   "cell_type": "code",
   "execution_count": null,
   "metadata": {},
   "outputs": [],
   "source": [
    "import ee\n",
    "import geemap"
   ]
  },
  {
   "cell_type": "code",
   "execution_count": null,
   "metadata": {},
   "outputs": [],
   "source": [
    "Map = geemap.Map()\n",
    "Map"
   ]
  },
  {
   "cell_type": "code",
   "execution_count": null,
   "metadata": {},
   "outputs": [],
   "source": [
    "region = Map.draw_last_feature"
   ]
  },
  {
   "cell_type": "code",
   "execution_count": null,
   "metadata": {},
   "outputs": [],
   "source": [
    "if region is not None:\n",
    "    roi = region.geometry()\n",
    "else:\n",
    "    roi = ee.Geometry.Polygon(\n",
    "        [\n",
    "            [\n",
    "                [-115.897448, 35.640766],\n",
    "                [-115.897448, 36.603608],\n",
    "                [-113.784915, 36.603608],\n",
    "                [-113.784915, 35.640766],\n",
    "                [-115.897448, 35.640766],\n",
    "            ]\n",
    "        ],\n",
    "        None,\n",
    "        False,\n",
    "    )"
   ]
  },
  {
   "cell_type": "code",
   "execution_count": null,
   "metadata": {},
   "outputs": [],
   "source": [
    "print(roi.getInfo())"
   ]
  },
  {
   "cell_type": "code",
   "execution_count": null,
   "metadata": {},
   "outputs": [],
   "source": [
    "landsat_ts = geemap.landsat_timeseries(\n",
    "    roi=roi, start_year=1984, end_year=2019, start_date='01-01', end_date='12-31'\n",
    ")"
   ]
  },
  {
   "cell_type": "code",
   "execution_count": null,
   "metadata": {},
   "outputs": [],
   "source": [
    "layer_names = ['Landsat ' + str(year) for year in range(1984, 2020)]\n",
    "print(layer_names)"
   ]
  },
  {
   "cell_type": "code",
   "execution_count": null,
   "metadata": {},
   "outputs": [],
   "source": [
    "landsat_vis = {\n",
    "    'min': 0,\n",
    "    'max': 4000,\n",
    "    'gamma': [1, 1, 1],\n",
    "    'bands': ['NIR', 'Red', 'Green'],\n",
    "}"
   ]
  },
  {
   "cell_type": "code",
   "execution_count": null,
   "metadata": {},
   "outputs": [],
   "source": [
    "Map = geemap.Map()\n",
    "Map.ts_inspector(\n",
    "    left_ts=landsat_ts,\n",
    "    right_ts=landsat_ts,\n",
    "    left_names=layer_names,\n",
    "    right_names=layer_names,\n",
    "    left_vis=landsat_vis,\n",
    "    right_vis=landsat_vis,\n",
    ")\n",
    "Map.centerObject(roi, zoom=8)\n",
    "Map"
   ]
  },
  {
   "cell_type": "code",
   "execution_count": null,
   "metadata": {},
   "outputs": [],
   "source": []
  }
 ],
 "metadata": {
  "kernelspec": {
   "display_name": "eds-217",
   "language": "python",
   "name": "eds-217"
  },
  "language_info": {
   "codemirror_mode": {
    "name": "ipython",
    "version": 3
   },
   "file_extension": ".py",
   "mimetype": "text/x-python",
   "name": "python",
   "nbconvert_exporter": "python",
   "pygments_lexer": "ipython3",
   "version": "3.10.5"
  },
  "vscode": {
   "interpreter": {
    "hash": "61159dc0ff7419b01fb09e13d3c49e9e115b9476fe0b7a196b1509f606d6098c"
   }
  }
 },
 "nbformat": 4,
 "nbformat_minor": 2
}

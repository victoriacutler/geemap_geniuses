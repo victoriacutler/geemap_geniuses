{
 "cells": [
  {
   "cell_type": "code",
   "execution_count": 20,
   "metadata": {},
   "outputs": [],
   "source": [
    "import geemap\n",
    "import ee"
   ]
  },
  {
   "cell_type": "code",
   "execution_count": 6,
   "metadata": {
    "scrolled": true
   },
   "outputs": [
    {
     "data": {
      "application/vnd.jupyter.widget-view+json": {
       "model_id": "d1c0b87c93a94804b1dad9d7942e69d1",
       "version_major": 2,
       "version_minor": 0
      },
      "text/plain": [
       "Map(center=[20, 0], controls=(WidgetControl(options=['position', 'transparent_bg'], widget=HBox(children=(Togg…"
      ]
     },
     "execution_count": 6,
     "metadata": {},
     "output_type": "execute_result"
    }
   ],
   "source": [
    "m = geemap.Map()\n",
    "m"
   ]
  },
  {
   "cell_type": "code",
   "execution_count": 7,
   "metadata": {},
   "outputs": [],
   "source": [
    "m.add_basemap(\"SATELLITE\")"
   ]
  },
  {
   "cell_type": "code",
   "execution_count": 8,
   "metadata": {},
   "outputs": [],
   "source": [
    "m.basemap_demo()"
   ]
  },
  {
   "cell_type": "code",
   "execution_count": null,
   "metadata": {},
   "outputs": [],
   "source": []
  },
  {
   "cell_type": "code",
   "execution_count": 21,
   "metadata": {},
   "outputs": [],
   "source": [
    "naip_ts = geemap.naip_timeseries(start_year = 2009, end_year = 2019)"
   ]
  },
  {
   "cell_type": "code",
   "execution_count": 10,
   "metadata": {},
   "outputs": [
    {
     "name": "stdout",
     "output_type": "stream",
     "text": [
      "['NAIP2009', 'NAIP2010', 'NAIP2011', 'NAIP2012', 'NAIP2013', 'NAIP2014', 'NAIP2015', 'NAIP2016', 'NAIP2017', 'NAIP2018', 'NAIP2019']\n"
     ]
    }
   ],
   "source": [
    "layer_names = ['NAIP' + str(year) for year in range(2009,2020)]\n",
    "print(layer_names)"
   ]
  },
  {
   "cell_type": "code",
   "execution_count": 22,
   "metadata": {},
   "outputs": [],
   "source": [
    "naip_vis = {'bands': ['R', 'G', 'B']}"
   ]
  },
  {
   "cell_type": "code",
   "execution_count": 24,
   "metadata": {
    "scrolled": false
   },
   "outputs": [
    {
     "data": {
      "application/vnd.jupyter.widget-view+json": {
       "model_id": "63a60eb26fe8493095e77cda5f2fee00",
       "version_major": 2,
       "version_minor": 0
      },
      "text/plain": [
       "Map(center=[20, 0], controls=(WidgetControl(options=['position', 'transparent_bg'], widget=Dropdown(layout=Lay…"
      ]
     },
     "execution_count": 24,
     "metadata": {},
     "output_type": "execute_result"
    }
   ],
   "source": [
    "m_sb = geemap.Map()\n",
    "m_sb.ts_inspector(left_ts = naip_ts, \n",
    "                  right_ts = naip_ts, \n",
    "                  left_names = layer_names, \n",
    "                  right_names = layer_names, \n",
    "                  left_vis = naip_vis, \n",
    "                  right_vis = naip_vis,)\n",
    "m_sb"
   ]
  },
  {
   "cell_type": "code",
   "execution_count": 7,
   "metadata": {},
   "outputs": [
    {
     "data": {
      "application/vnd.jupyter.widget-view+json": {
       "model_id": "ede7bc0f37224fad9c70737761a6f125",
       "version_major": 2,
       "version_minor": 0
      },
      "text/plain": [
       "Map(center=[20, 0], controls=(WidgetControl(options=['position', 'transparent_bg'], widget=HBox(children=(Togg…"
      ]
     },
     "execution_count": 7,
     "metadata": {},
     "output_type": "execute_result"
    }
   ],
   "source": [
    "Map = geemap.Map()\n",
    "Map"
   ]
  },
  {
   "cell_type": "code",
   "execution_count": 8,
   "metadata": {},
   "outputs": [],
   "source": [
    "region = Map.draw_last_feature\n",
    "#roi = region.geometry()"
   ]
  },
  {
   "cell_type": "code",
   "execution_count": 52,
   "metadata": {},
   "outputs": [
    {
     "name": "stdout",
     "output_type": "stream",
     "text": [
      "{'geodesic': False, 'type': 'Polygon', 'coordinates': [[[-118.782959, 33.722466], [-118.782959, 34.349513], [-117.628582, 34.349513], [-117.628582, 33.722466], [-118.782959, 33.722466]]]}\n"
     ]
    }
   ],
   "source": []
  },
  {
   "cell_type": "code",
   "execution_count": 9,
   "metadata": {},
   "outputs": [],
   "source": [
    "if region is not None:\n",
    "    roi = region.geometry()\n",
    "else:\n",
    "    roi = ee.Geometry.Polygon(\n",
    "        [\n",
    "            [\n",
    "                [-115.897448, 35.640766],\n",
    "                [-115.897448, 36.603608],\n",
    "                [-113.784915, 36.603608],\n",
    "                [-113.784915, 35.640766],\n",
    "                [-115.897448, 35.640766],\n",
    "            ]\n",
    "        ],\n",
    "        None,\n",
    "        False,\n",
    "    )"
   ]
  },
  {
   "cell_type": "code",
   "execution_count": 10,
   "metadata": {},
   "outputs": [
    {
     "name": "stdout",
     "output_type": "stream",
     "text": [
      "{'geodesic': False, 'type': 'Polygon', 'coordinates': [[[-115.897448, 35.640766], [-115.897448, 36.603608], [-113.784915, 36.603608], [-113.784915, 35.640766], [-115.897448, 35.640766]]]}\n"
     ]
    }
   ],
   "source": [
    "print(roi.getInfo())"
   ]
  },
  {
   "cell_type": "code",
   "execution_count": 11,
   "metadata": {},
   "outputs": [],
   "source": [
    "landsat_ts = geemap.landsat_timeseries(roi=roi, start_year = 1984, end_year=2019, start_date='01-01', end_date='12-31')"
   ]
  },
  {
   "cell_type": "code",
   "execution_count": 12,
   "metadata": {},
   "outputs": [
    {
     "name": "stdout",
     "output_type": "stream",
     "text": [
      "['Landsat1984', 'Landsat1985', 'Landsat1986', 'Landsat1987', 'Landsat1988', 'Landsat1989', 'Landsat1990', 'Landsat1991', 'Landsat1992', 'Landsat1993', 'Landsat1994', 'Landsat1995', 'Landsat1996', 'Landsat1997', 'Landsat1998', 'Landsat1999', 'Landsat2000', 'Landsat2001', 'Landsat2002', 'Landsat2003', 'Landsat2004', 'Landsat2005', 'Landsat2006', 'Landsat2007', 'Landsat2008', 'Landsat2009', 'Landsat2010', 'Landsat2011', 'Landsat2012', 'Landsat2013', 'Landsat2014', 'Landsat2015', 'Landsat2016', 'Landsat2017', 'Landsat2018', 'Landsat2019']\n"
     ]
    }
   ],
   "source": [
    "layer_names = ['Landsat' + str(year) for year in range(1984,2020)]\n",
    "print(layer_names)"
   ]
  },
  {
   "cell_type": "code",
   "execution_count": 13,
   "metadata": {},
   "outputs": [],
   "source": [
    "landsat_vis = {\n",
    "    'min': 0,\n",
    "    'max': 4000,\n",
    "    'gamma': [1,1,1],\n",
    "    'bands': ['NIR', 'Red', 'Green']\n",
    "}"
   ]
  },
  {
   "cell_type": "code",
   "execution_count": 14,
   "metadata": {},
   "outputs": [
    {
     "data": {
      "application/vnd.jupyter.widget-view+json": {
       "model_id": "272c9b3b772744168e6a0016a0feddcb",
       "version_major": 2,
       "version_minor": 0
      },
      "text/plain": [
       "Map(center=[36.12274838731054, -114.84118150000003], controls=(WidgetControl(options=['position', 'transparent…"
      ]
     },
     "execution_count": 14,
     "metadata": {},
     "output_type": "execute_result"
    }
   ],
   "source": [
    "Map = geemap.Map()\n",
    "Map.ts_inspector(left_ts=landsat_ts, \n",
    "                 right_ts=landsat_ts, \n",
    "                 left_names=layer_names, \n",
    "                 right_names=layer_names, \n",
    "                 left_vis=landsat_vis, \n",
    "                 right_vis=landsat_vis,\n",
    "                )\n",
    "Map.centerObject(roi, zoom=8)\n",
    "Map"
   ]
  },
  {
   "cell_type": "code",
   "execution_count": null,
   "metadata": {},
   "outputs": [],
   "source": []
  },
  {
   "cell_type": "code",
   "execution_count": 57,
   "metadata": {},
   "outputs": [
    {
     "data": {
      "application/vnd.jupyter.widget-view+json": {
       "model_id": "a04d31e8f31f4a218323b1620d359cbf",
       "version_major": 2,
       "version_minor": 0
      },
      "text/plain": [
       "Map(center=[34.036052733890045, -118.20577049999989], controls=(WidgetControl(options=['position', 'transparen…"
      ]
     },
     "execution_count": 57,
     "metadata": {},
     "output_type": "execute_result"
    }
   ],
   "source": []
  },
  {
   "cell_type": "code",
   "execution_count": 15,
   "metadata": {},
   "outputs": [],
   "source": [
    "Map = geemap.Map()\n",
    "naip_ts = geemap.naip_timeseries(start_year=2009, end_year=2018)"
   ]
  },
  {
   "cell_type": "code",
   "execution_count": 16,
   "metadata": {},
   "outputs": [
    {
     "name": "stdout",
     "output_type": "stream",
     "text": [
      "['NAIP 2009', 'NAIP 2010', 'NAIP 2011', 'NAIP 2012', 'NAIP 2013', 'NAIP 2014', 'NAIP 2015', 'NAIP 2016', 'NAIP 2017', 'NAIP 2018']\n"
     ]
    }
   ],
   "source": [
    "layer_names = ['NAIP ' + str(year) for year in range(2009, 2019)]\n",
    "print(layer_names)"
   ]
  },
  {
   "cell_type": "code",
   "execution_count": 17,
   "metadata": {},
   "outputs": [],
   "source": [
    "naip_vis = {'bands': ['N', 'R', 'G']}"
   ]
  },
  {
   "cell_type": "code",
   "execution_count": 18,
   "metadata": {},
   "outputs": [
    {
     "data": {
      "application/vnd.jupyter.widget-view+json": {
       "model_id": "8cbff5d5f51548338c90a00b7197997f",
       "version_major": 2,
       "version_minor": 0
      },
      "text/plain": [
       "Map(center=[20, 0], controls=(WidgetControl(options=['position', 'transparent_bg'], widget=Dropdown(layout=Lay…"
      ]
     },
     "execution_count": 18,
     "metadata": {},
     "output_type": "execute_result"
    }
   ],
   "source": [
    "Map = geemap.Map()\n",
    "Map.ts_inspector(\n",
    "    left_ts=naip_ts,\n",
    "    right_ts=naip_ts,\n",
    "    left_names=layer_names,\n",
    "    right_names=layer_names,\n",
    "    left_vis=naip_vis,\n",
    "    right_vis=naip_vis,\n",
    ")\n",
    "Map"
   ]
  },
  {
   "cell_type": "code",
   "execution_count": 66,
   "metadata": {},
   "outputs": [],
   "source": [
    "import ee\n",
    "import geemap"
   ]
  },
  {
   "cell_type": "code",
   "execution_count": 67,
   "metadata": {},
   "outputs": [
    {
     "data": {
      "application/vnd.jupyter.widget-view+json": {
       "model_id": "14b08aecebd54703af1433927da417a4",
       "version_major": 2,
       "version_minor": 0
      },
      "text/plain": [
       "Map(center=[20, 0], controls=(WidgetControl(options=['position', 'transparent_bg'], widget=HBox(children=(Togg…"
      ]
     },
     "execution_count": 67,
     "metadata": {},
     "output_type": "execute_result"
    }
   ],
   "source": [
    "Map = geemap.Map()\n",
    "Map"
   ]
  },
  {
   "cell_type": "code",
   "execution_count": 68,
   "metadata": {},
   "outputs": [],
   "source": [
    "region = Map.draw_last_feature"
   ]
  },
  {
   "cell_type": "code",
   "execution_count": 69,
   "metadata": {},
   "outputs": [],
   "source": [
    "if region is not None:\n",
    "    roi = region.geometry()\n",
    "else:\n",
    "    roi = ee.Geometry.Polygon(\n",
    "        [\n",
    "            [\n",
    "                [-115.897448, 35.640766],\n",
    "                [-115.897448, 36.603608],\n",
    "                [-113.784915, 36.603608],\n",
    "                [-113.784915, 35.640766],\n",
    "                [-115.897448, 35.640766],\n",
    "            ]\n",
    "        ],\n",
    "        None,\n",
    "        False,\n",
    "    )"
   ]
  },
  {
   "cell_type": "code",
   "execution_count": 71,
   "metadata": {},
   "outputs": [
    {
     "name": "stdout",
     "output_type": "stream",
     "text": [
      "{'geodesic': False, 'type': 'Polygon', 'coordinates': [[[-115.897448, 35.640766], [-115.897448, 36.603608], [-113.784915, 36.603608], [-113.784915, 35.640766], [-115.897448, 35.640766]]]}\n"
     ]
    }
   ],
   "source": [
    "print(roi.getInfo())"
   ]
  },
  {
   "cell_type": "code",
   "execution_count": 73,
   "metadata": {},
   "outputs": [],
   "source": [
    "landsat_ts = geemap.landsat_timeseries(\n",
    "    roi=roi, start_year=1984, end_year=2019, start_date='01-01', end_date='12-31'\n",
    ")"
   ]
  },
  {
   "cell_type": "code",
   "execution_count": 75,
   "metadata": {},
   "outputs": [
    {
     "name": "stdout",
     "output_type": "stream",
     "text": [
      "['Landsat 1984', 'Landsat 1985', 'Landsat 1986', 'Landsat 1987', 'Landsat 1988', 'Landsat 1989', 'Landsat 1990', 'Landsat 1991', 'Landsat 1992', 'Landsat 1993', 'Landsat 1994', 'Landsat 1995', 'Landsat 1996', 'Landsat 1997', 'Landsat 1998', 'Landsat 1999', 'Landsat 2000', 'Landsat 2001', 'Landsat 2002', 'Landsat 2003', 'Landsat 2004', 'Landsat 2005', 'Landsat 2006', 'Landsat 2007', 'Landsat 2008', 'Landsat 2009', 'Landsat 2010', 'Landsat 2011', 'Landsat 2012', 'Landsat 2013', 'Landsat 2014', 'Landsat 2015', 'Landsat 2016', 'Landsat 2017', 'Landsat 2018', 'Landsat 2019']\n"
     ]
    }
   ],
   "source": [
    "layer_names = ['Landsat ' + str(year) for year in range(1984, 2020)]\n",
    "print(layer_names)"
   ]
  },
  {
   "cell_type": "code",
   "execution_count": 77,
   "metadata": {},
   "outputs": [],
   "source": [
    "landsat_vis = {\n",
    "    'min': 0,\n",
    "    'max': 4000,\n",
    "    'gamma': [1, 1, 1],\n",
    "    'bands': ['NIR', 'Red', 'Green'],\n",
    "}"
   ]
  },
  {
   "cell_type": "code",
   "execution_count": 78,
   "metadata": {},
   "outputs": [
    {
     "data": {
      "application/vnd.jupyter.widget-view+json": {
       "model_id": "173382232e96474a855871266795781c",
       "version_major": 2,
       "version_minor": 0
      },
      "text/plain": [
       "Map(center=[36.12274838731054, -114.84118150000003], controls=(WidgetControl(options=['position', 'transparent…"
      ]
     },
     "execution_count": 78,
     "metadata": {},
     "output_type": "execute_result"
    }
   ],
   "source": [
    "Map = geemap.Map()\n",
    "Map.ts_inspector(\n",
    "    left_ts=landsat_ts,\n",
    "    right_ts=landsat_ts,\n",
    "    left_names=layer_names,\n",
    "    right_names=layer_names,\n",
    "    left_vis=landsat_vis,\n",
    "    right_vis=landsat_vis,\n",
    ")\n",
    "Map.centerObject(roi, zoom=8)\n",
    "Map"
   ]
  },
  {
   "cell_type": "code",
   "execution_count": null,
   "metadata": {},
   "outputs": [],
   "source": []
  }
 ],
 "metadata": {
  "kernelspec": {
   "display_name": "eds-217",
   "language": "python",
   "name": "eds-217"
  },
  "language_info": {
   "codemirror_mode": {
    "name": "ipython",
    "version": 3
   },
   "file_extension": ".py",
   "mimetype": "text/x-python",
   "name": "python",
   "nbconvert_exporter": "python",
   "pygments_lexer": "ipython3",
   "version": "3.10.5"
  },
  "vscode": {
   "interpreter": {
    "hash": "61159dc0ff7419b01fb09e13d3c49e9e115b9476fe0b7a196b1509f606d6098c"
   }
  }
 },
 "nbformat": 4,
 "nbformat_minor": 2
}
